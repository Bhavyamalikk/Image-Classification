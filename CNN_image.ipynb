{
  "nbformat": 4,
  "nbformat_minor": 0,
  "metadata": {
    "colab": {
      "name": "CNN-image.ipynb",
      "provenance": [],
      "collapsed_sections": []
    },
    "kernelspec": {
      "name": "python3",
      "display_name": "Python 3"
    },
    "language_info": {
      "name": "python"
    }
  },
  "cells": [
    {
      "cell_type": "markdown",
      "metadata": {
        "id": "N_byxYHzVdRF"
      },
      "source": [
        "# CNN (Image Classification)"
      ]
    },
    {
      "cell_type": "markdown",
      "metadata": {
        "id": "sjXx5M2Vmtvm"
      },
      "source": [
        "https://keras.io/api/layers/activations/\n"
      ]
    },
    {
      "cell_type": "markdown",
      "metadata": {
        "id": "frcDHsdMmQ8N"
      },
      "source": [
        "https://keras.io/api/losses/probabilistic_losses/#categoricalcrossentropy-class\n"
      ]
    },
    {
      "cell_type": "markdown",
      "metadata": {
        "id": "U2UeP1JNceA4"
      },
      "source": [
        "https://data-flair.training/blogs/image-classification-deep-learning-project-python-keras/\n"
      ]
    },
    {
      "cell_type": "code",
      "metadata": {
        "id": "zwOb5-rvPMZk"
      },
      "source": [
        "import tensorflow as tf\n",
        "from tensorflow.keras import datasets, layers, models\n",
        "\n",
        "import matplotlib.pyplot as plt\n",
        "%matplotlib inline\n",
        "\n",
        "import numpy as np\n",
        "\n"
      ],
      "execution_count": null,
      "outputs": []
    },
    {
      "cell_type": "code",
      "metadata": {
        "colab": {
          "base_uri": "https://localhost:8080/"
        },
        "id": "qVN66kmXYOUq",
        "outputId": "af1e6636-9da6-4785-b864-bf83a7cc00a8"
      },
      "source": [
        "#loading the dataset\n",
        "(x_train, y_train),(x_test, y_test) = datasets.cifar10.load_data()"
      ],
      "execution_count": null,
      "outputs": [
        {
          "output_type": "stream",
          "name": "stdout",
          "text": [
            "Downloading data from https://www.cs.toronto.edu/~kriz/cifar-10-python.tar.gz\n",
            "170500096/170498071 [==============================] - 4s 0us/step\n",
            "170508288/170498071 [==============================] - 4s 0us/step\n"
          ]
        }
      ]
    },
    {
      "cell_type": "code",
      "metadata": {
        "colab": {
          "base_uri": "https://localhost:8080/"
        },
        "id": "72I93DGrYgOI",
        "outputId": "8e49ba90-cc82-4f17-80ba-6e180e937135"
      },
      "source": [
        "x_train.shape"
      ],
      "execution_count": null,
      "outputs": [
        {
          "output_type": "execute_result",
          "data": {
            "text/plain": [
              "(50000, 32, 32, 3)"
            ]
          },
          "metadata": {},
          "execution_count": 3
        }
      ]
    },
    {
      "cell_type": "markdown",
      "metadata": {
        "id": "qsdYv4OJZj01"
      },
      "source": [
        "3 is rgb channel"
      ]
    },
    {
      "cell_type": "code",
      "metadata": {
        "colab": {
          "base_uri": "https://localhost:8080/"
        },
        "id": "gOE236w6YipF",
        "outputId": "bd93c4a0-70ec-43be-f604-859a763d974f"
      },
      "source": [
        "x_test.shape"
      ],
      "execution_count": null,
      "outputs": [
        {
          "output_type": "execute_result",
          "data": {
            "text/plain": [
              "(10000, 32, 32, 3)"
            ]
          },
          "metadata": {},
          "execution_count": 4
        }
      ]
    },
    {
      "cell_type": "code",
      "metadata": {
        "colab": {
          "base_uri": "https://localhost:8080/"
        },
        "id": "9KzYtyW5ZoqY",
        "outputId": "92666f09-eb6d-4373-b51b-e6b8d84a388a"
      },
      "source": [
        "y_train.shape"
      ],
      "execution_count": null,
      "outputs": [
        {
          "output_type": "execute_result",
          "data": {
            "text/plain": [
              "(50000, 1)"
            ]
          },
          "metadata": {},
          "execution_count": 5
        }
      ]
    },
    {
      "cell_type": "code",
      "metadata": {
        "colab": {
          "base_uri": "https://localhost:8080/"
        },
        "id": "JZbSRqsdaACo",
        "outputId": "bc098a00-d493-43d5-d249-2be880ecf2fb"
      },
      "source": [
        "y_train[:5]"
      ],
      "execution_count": null,
      "outputs": [
        {
          "output_type": "execute_result",
          "data": {
            "text/plain": [
              "array([[6],\n",
              "       [9],\n",
              "       [9],\n",
              "       [4],\n",
              "       [1]], dtype=uint8)"
            ]
          },
          "metadata": {},
          "execution_count": 6
        }
      ]
    },
    {
      "cell_type": "code",
      "metadata": {
        "colab": {
          "base_uri": "https://localhost:8080/"
        },
        "id": "YtuZ7QHJaDz9",
        "outputId": "9980a613-a080-49c9-bd8c-aba46013e045"
      },
      "source": [
        "#converting 2D array\n",
        "\n",
        "y_train = y_train.reshape(-1,)  \n",
        "#-1 if we don't want to change the direction\n",
        "\n",
        "y_train[:10]"
      ],
      "execution_count": null,
      "outputs": [
        {
          "output_type": "execute_result",
          "data": {
            "text/plain": [
              "array([6, 9, 9, 4, 1, 1, 2, 7, 8, 3], dtype=uint8)"
            ]
          },
          "metadata": {},
          "execution_count": 7
        }
      ]
    },
    {
      "cell_type": "code",
      "metadata": {
        "colab": {
          "base_uri": "https://localhost:8080/",
          "height": 176
        },
        "id": "fqO2QJZ3alLr",
        "outputId": "5364b963-5e52-4b15-e571-794499f36a50"
      },
      "source": [
        "plt.figure(figsize = (12,2))\n",
        "plt.imshow(x_train[0])"
      ],
      "execution_count": null,
      "outputs": [
        {
          "output_type": "execute_result",
          "data": {
            "text/plain": [
              "<matplotlib.image.AxesImage at 0x7ff10b70aa50>"
            ]
          },
          "metadata": {},
          "execution_count": 8
        },
        {
          "output_type": "display_data",
          "data": {
            "image/png": "[encoded data removed]",
            "text/plain": [
              "<Figure size 864x144 with 1 Axes>"
            ]
          },
          "metadata": {
            "needs_background": "light"
          }
        }
      ]
    },
    {
      "cell_type": "code",
      "metadata": {
        "colab": {
          "base_uri": "https://localhost:8080/"
        },
        "id": "ebDs2zOHcJo1",
        "outputId": "bd18f077-dc76-4198-9852-c3f0d73ce6c9"
      },
      "source": [
        "y_train[0]"
      ],
      "execution_count": null,
      "outputs": [
        {
          "output_type": "execute_result",
          "data": {
            "text/plain": [
              "6"
            ]
          },
          "metadata": {},
          "execution_count": 9
        }
      ]
    },
    {
      "cell_type": "code",
      "metadata": {
        "colab": {
          "base_uri": "https://localhost:8080/",
          "height": 176
        },
        "id": "Xc4axBincSCK",
        "outputId": "a0787354-08c2-4863-916d-610ce227c417"
      },
      "source": [
        "plt.figure(figsize = (12,2))\n",
        "plt.imshow(x_train[1])"
      ],
      "execution_count": null,
      "outputs": [
        {
          "output_type": "execute_result",
          "data": {
            "text/plain": [
              "<matplotlib.image.AxesImage at 0x7ff10b256fd0>"
            ]
          },
          "metadata": {},
          "execution_count": 10
        },
        {
          "output_type": "display_data",
          "data": {
            "image/png": "[encoded data removed]",
            "text/plain": [
              "<Figure size 864x144 with 1 Axes>"
            ]
          },
          "metadata": {
            "needs_background": "light"
          }
        }
      ]
    },
    {
      "cell_type": "code",
      "metadata": {
        "colab": {
          "base_uri": "https://localhost:8080/"
        },
        "id": "Iz3gAL5gcix0",
        "outputId": "224eb505-5bc2-4649-fb49-ccc17678c911"
      },
      "source": [
        "y_train[1]"
      ],
      "execution_count": null,
      "outputs": [
        {
          "output_type": "execute_result",
          "data": {
            "text/plain": [
              "9"
            ]
          },
          "metadata": {},
          "execution_count": 11
        }
      ]
    },
    {
      "cell_type": "code",
      "metadata": {
        "colab": {
          "base_uri": "https://localhost:8080/"
        },
        "id": "iZHYXad_ckd8",
        "outputId": "4ff43d87-d328-456c-e48b-7c3744686719"
      },
      "source": [
        "x_train[0]"
      ],
      "execution_count": null,
      "outputs": [
        {
          "output_type": "execute_result",
          "data": {
            "text/plain": [
              "array([[[ 59,  62,  63],\n",
              "        [ 43,  46,  45],\n",
              "        [ 50,  48,  43],\n",
              "        ...,\n",
              "        [158, 132, 108],\n",
              "        [152, 125, 102],\n",
              "        [148, 124, 103]],\n",
              "\n",
              "       [[ 16,  20,  20],\n",
              "        [  0,   0,   0],\n",
              "        [ 18,   8,   0],\n",
              "        ...,\n",
              "        [123,  88,  55],\n",
              "        [119,  83,  50],\n",
              "        [122,  87,  57]],\n",
              "\n",
              "       [[ 25,  24,  21],\n",
              "        [ 16,   7,   0],\n",
              "        [ 49,  27,   8],\n",
              "        ...,\n",
              "        [118,  84,  50],\n",
              "        [120,  84,  50],\n",
              "        [109,  73,  42]],\n",
              "\n",
              "       ...,\n",
              "\n",
              "       [[208, 170,  96],\n",
              "        [201, 153,  34],\n",
              "        [198, 161,  26],\n",
              "        ...,\n",
              "        [160, 133,  70],\n",
              "        [ 56,  31,   7],\n",
              "        [ 53,  34,  20]],\n",
              "\n",
              "       [[180, 139,  96],\n",
              "        [173, 123,  42],\n",
              "        [186, 144,  30],\n",
              "        ...,\n",
              "        [184, 148,  94],\n",
              "        [ 97,  62,  34],\n",
              "        [ 83,  53,  34]],\n",
              "\n",
              "       [[177, 144, 116],\n",
              "        [168, 129,  94],\n",
              "        [179, 142,  87],\n",
              "        ...,\n",
              "        [216, 184, 140],\n",
              "        [151, 118,  84],\n",
              "        [123,  92,  72]]], dtype=uint8)"
            ]
          },
          "metadata": {},
          "execution_count": 12
        }
      ]
    },
    {
      "cell_type": "code",
      "metadata": {
        "id": "d6C9uSi2c20O"
      },
      "source": [
        "#Normalize the training data\n",
        "\n",
        "x_train = x_train/255\n",
        "x_test = x_test/255"
      ],
      "execution_count": null,
      "outputs": []
    },
    {
      "cell_type": "code",
      "metadata": {
        "id": "qHtWc0FAdaPo"
      },
      "source": [
        "#build a simple neural network for image classification\n"
      ],
      "execution_count": null,
      "outputs": []
    },
    {
      "cell_type": "code",
      "metadata": {
        "colab": {
          "base_uri": "https://localhost:8080/"
        },
        "id": "wdnaDFLgdepw",
        "outputId": "ca449fb5-6cb1-4489-b773-06a224b3944d"
      },
      "source": [
        "ann = models.Sequential([layers.Flatten(input_shape = (32,32,3)), layers.Dense(3000, activation = 'relu'), layers.Dense(2000, activation = 'relu'), layers.Dense(10, activation = 'sigmoid')])\n",
        "\n",
        "ann.compile(optimizer = 'adam', loss = 'sparse_categorical_crossentropy', metrics = ['accuracy'])\n",
        "\n",
        "ann.fit(x_train, y_train, epochs = 10)"
      ],
      "execution_count": null,
      "outputs": [
        {
          "output_type": "stream",
          "name": "stdout",
          "text": [
            "Epoch 1/10\n",
            "1563/1563 [==============================] - 157s 100ms/step - loss: 1.9014 - accuracy: 0.3197\n",
            "Epoch 2/10\n",
            "1563/1563 [==============================] - 156s 100ms/step - loss: 1.6956 - accuracy: 0.3913\n",
            "Epoch 3/10\n",
            "1563/1563 [==============================] - 155s 99ms/step - loss: 1.6284 - accuracy: 0.4162\n",
            "Epoch 4/10\n",
            "1563/1563 [==============================] - 156s 100ms/step - loss: 1.5734 - accuracy: 0.4373\n",
            "Epoch 5/10\n",
            "1563/1563 [==============================] - 156s 100ms/step - loss: 1.5287 - accuracy: 0.4536\n",
            "Epoch 6/10\n",
            "1563/1563 [==============================] - 157s 100ms/step - loss: 1.4939 - accuracy: 0.4666\n",
            "Epoch 7/10\n",
            "1563/1563 [==============================] - 157s 100ms/step - loss: 1.4700 - accuracy: 0.4725\n",
            "Epoch 8/10\n",
            "1563/1563 [==============================] - 157s 101ms/step - loss: 1.4481 - accuracy: 0.4811\n",
            "Epoch 9/10\n",
            "1563/1563 [==============================] - 157s 101ms/step - loss: 1.4255 - accuracy: 0.4890\n",
            "Epoch 10/10\n",
            "1563/1563 [==============================] - 158s 101ms/step - loss: 1.4120 - accuracy: 0.4971\n"
          ]
        },
        {
          "output_type": "execute_result",
          "data": {
            "text/plain": [
              "<keras.callbacks.History at 0x7ff107709b90>"
            ]
          },
          "metadata": {},
          "execution_count": 15
        }
      ]
    },
    {
      "cell_type": "code",
      "metadata": {
        "id": "AqdyOwcbefL9"
      },
      "source": [
        "# Build CNN to train our images\n",
        "\n",
        "cnn = models.Sequential([layers.Conv2D(filters = 64, kernel_size = (3,3), activation = 'relu', input_shape = (32,32,3)),\n",
        "                         layers.MaxPooling2D((2,2)),\n",
        "                         layers.Conv2D(filters = 32, kernel_size = (3,3), activation = 'relu'),\n",
        "                         layers.MaxPooling2D((2,2)),\n",
        "                         \n",
        "                         layers.Flatten(), \n",
        "                         layers.Dense(64, activation = 'relu'), \n",
        "                         layers.Dense(32, activation = 'relu'),\n",
        "                         layers.Dense(10, activation = 'softmax')])\n"
      ],
      "execution_count": null,
      "outputs": []
    },
    {
      "cell_type": "code",
      "metadata": {
        "id": "rgA4HRVola0G"
      },
      "source": [
        "cnn.compile(optimizer = 'adam', loss = 'sparse_categorical_crossentropy', metrics = ['accuracy'])"
      ],
      "execution_count": null,
      "outputs": []
    },
    {
      "cell_type": "code",
      "metadata": {
        "colab": {
          "base_uri": "https://localhost:8080/"
        },
        "id": "Oq_qp3YulfzK",
        "outputId": "bf2cb667-cea2-4942-f947-cca1dc268e16"
      },
      "source": [
        "cnn.fit(x_train, y_train, epochs = 20)"
      ],
      "execution_count": null,
      "outputs": [
        {
          "output_type": "stream",
          "name": "stdout",
          "text": [
            "Epoch 1/20\n",
            "1563/1563 [==============================] - 75s 48ms/step - loss: 1.5402 - accuracy: 0.4370\n",
            "Epoch 2/20\n",
            "1563/1563 [==============================] - 74s 47ms/step - loss: 1.1970 - accuracy: 0.5746\n",
            "Epoch 3/20\n",
            "1563/1563 [==============================] - 74s 47ms/step - loss: 1.0584 - accuracy: 0.6270\n",
            "Epoch 4/20\n",
            "1563/1563 [==============================] - 73s 47ms/step - loss: 0.9737 - accuracy: 0.6565\n",
            "Epoch 5/20\n",
            "1563/1563 [==============================] - 73s 47ms/step - loss: 0.9107 - accuracy: 0.6808\n",
            "Epoch 6/20\n",
            "1563/1563 [==============================] - 73s 47ms/step - loss: 0.8629 - accuracy: 0.6975\n",
            "Epoch 7/20\n",
            "1563/1563 [==============================] - 73s 47ms/step - loss: 0.8189 - accuracy: 0.7135\n",
            "Epoch 8/20\n",
            "1563/1563 [==============================] - 73s 47ms/step - loss: 0.7797 - accuracy: 0.7267\n",
            "Epoch 9/20\n",
            "1563/1563 [==============================] - 73s 47ms/step - loss: 0.7475 - accuracy: 0.7390\n",
            "Epoch 10/20\n",
            "1563/1563 [==============================] - 73s 47ms/step - loss: 0.7144 - accuracy: 0.7486\n",
            "Epoch 11/20\n",
            "1563/1563 [==============================] - 73s 47ms/step - loss: 0.6856 - accuracy: 0.7583\n",
            "Epoch 12/20\n",
            "1563/1563 [==============================] - 73s 47ms/step - loss: 0.6564 - accuracy: 0.7674\n",
            "Epoch 13/20\n",
            "1563/1563 [==============================] - 73s 47ms/step - loss: 0.6298 - accuracy: 0.7755\n",
            "Epoch 14/20\n",
            "1563/1563 [==============================] - 73s 47ms/step - loss: 0.6051 - accuracy: 0.7856\n",
            "Epoch 15/20\n",
            "1563/1563 [==============================] - 73s 47ms/step - loss: 0.5806 - accuracy: 0.7942\n",
            "Epoch 16/20\n",
            "1563/1563 [==============================] - 73s 47ms/step - loss: 0.5603 - accuracy: 0.8009\n",
            "Epoch 17/20\n",
            "1563/1563 [==============================] - 73s 47ms/step - loss: 0.5386 - accuracy: 0.8065\n",
            "Epoch 18/20\n",
            "1563/1563 [==============================] - 73s 47ms/step - loss: 0.5217 - accuracy: 0.8155\n",
            "Epoch 19/20\n",
            "1563/1563 [==============================] - 73s 47ms/step - loss: 0.5025 - accuracy: 0.8195\n",
            "Epoch 20/20\n",
            "1563/1563 [==============================] - 73s 47ms/step - loss: 0.4861 - accuracy: 0.8264\n"
          ]
        },
        {
          "output_type": "execute_result",
          "data": {
            "text/plain": [
              "<keras.callbacks.History at 0x7ff1076b0ad0>"
            ]
          },
          "metadata": {},
          "execution_count": 18
        }
      ]
    },
    {
      "cell_type": "code",
      "metadata": {
        "id": "Y6r6ZWVJmOhz"
      },
      "source": [
        "#padding added\n",
        "\n",
        "cnn = models.Sequential([layers.Conv2D(filters = 64, kernel_size = (3,3), padding = 'same', strides = (1,1), activation = 'relu', input_shape = (32,32,3)),\n",
        "                         layers.MaxPooling2D((2,2)),\n",
        "                         layers.Conv2D(filters = 32, kernel_size = (3,3), padding = 'same', strides = (1,1), activation = 'relu'),\n",
        "                         layers.MaxPooling2D((2,2)),\n",
        "                         \n",
        "                         layers.Dropout((0.25)),\n",
        "\n",
        "                         layers.Flatten(), \n",
        "                         layers.Dense(64, activation = 'relu'), \n",
        "                         layers.Dense(32, activation = 'relu'),\n",
        "                         layers.Dense(10, activation = 'softmax')])"
      ],
      "execution_count": null,
      "outputs": []
    },
    {
      "cell_type": "code",
      "metadata": {
        "id": "qqvI_0q7ZdsS"
      },
      "source": [
        "cnn.compile(optimizer = 'adam', loss = 'sparse_categorical_crossentropy', metrics = ['accuracy'])\n"
      ],
      "execution_count": null,
      "outputs": []
    },
    {
      "cell_type": "code",
      "metadata": {
        "colab": {
          "base_uri": "https://localhost:8080/"
        },
        "id": "H6ckW0RXdG5z",
        "outputId": "98183674-c468-4b2d-b05b-cd60a630a3d4"
      },
      "source": [
        "cnn.fit(x_train, y_train, epochs = 20)"
      ],
      "execution_count": null,
      "outputs": [
        {
          "output_type": "stream",
          "name": "stdout",
          "text": [
            "Epoch 1/20\n",
            "1563/1563 [==============================] - 103s 66ms/step - loss: 1.5288 - accuracy: 0.4488\n",
            "Epoch 2/20\n",
            "1563/1563 [==============================] - 102s 65ms/step - loss: 1.1836 - accuracy: 0.5806\n",
            "Epoch 3/20\n",
            "1563/1563 [==============================] - 102s 65ms/step - loss: 1.0583 - accuracy: 0.6270\n",
            "Epoch 4/20\n",
            "1563/1563 [==============================] - 101s 65ms/step - loss: 0.9829 - accuracy: 0.6539\n",
            "Epoch 5/20\n",
            "1563/1563 [==============================] - 102s 65ms/step - loss: 0.9259 - accuracy: 0.6732\n",
            "Epoch 6/20\n",
            "1563/1563 [==============================] - 102s 65ms/step - loss: 0.8876 - accuracy: 0.6876\n",
            "Epoch 7/20\n",
            "1563/1563 [==============================] - 101s 65ms/step - loss: 0.8455 - accuracy: 0.7027\n",
            "Epoch 8/20\n",
            "1563/1563 [==============================] - 102s 65ms/step - loss: 0.8169 - accuracy: 0.7105\n",
            "Epoch 9/20\n",
            "1563/1563 [==============================] - 103s 66ms/step - loss: 0.7892 - accuracy: 0.7211\n",
            "Epoch 10/20\n",
            "1563/1563 [==============================] - 102s 65ms/step - loss: 0.7685 - accuracy: 0.7292\n",
            "Epoch 11/20\n",
            "1563/1563 [==============================] - 102s 65ms/step - loss: 0.7447 - accuracy: 0.7365\n",
            "Epoch 12/20\n",
            "1563/1563 [==============================] - 101s 65ms/step - loss: 0.7217 - accuracy: 0.7452\n",
            "Epoch 13/20\n",
            "1563/1563 [==============================] - 101s 65ms/step - loss: 0.7104 - accuracy: 0.7481\n",
            "Epoch 14/20\n",
            "1563/1563 [==============================] - 101s 65ms/step - loss: 0.6974 - accuracy: 0.7515\n",
            "Epoch 15/20\n",
            "1563/1563 [==============================] - 102s 65ms/step - loss: 0.6790 - accuracy: 0.7599\n",
            "Epoch 16/20\n",
            "1563/1563 [==============================] - 102s 65ms/step - loss: 0.6587 - accuracy: 0.7661\n",
            "Epoch 17/20\n",
            "1563/1563 [==============================] - 101s 65ms/step - loss: 0.6442 - accuracy: 0.7715\n",
            "Epoch 18/20\n",
            "1563/1563 [==============================] - 101s 65ms/step - loss: 0.6404 - accuracy: 0.7733\n",
            "Epoch 19/20\n",
            "1563/1563 [==============================] - 101s 65ms/step - loss: 0.6228 - accuracy: 0.7785\n",
            "Epoch 20/20\n",
            "1563/1563 [==============================] - 101s 65ms/step - loss: 0.6134 - accuracy: 0.7803\n"
          ]
        },
        {
          "output_type": "execute_result",
          "data": {
            "text/plain": [
              "<keras.callbacks.History at 0x7ff10751d690>"
            ]
          },
          "metadata": {},
          "execution_count": 21
        }
      ]
    },
    {
      "cell_type": "code",
      "metadata": {
        "colab": {
          "base_uri": "https://localhost:8080/"
        },
        "id": "zHIPmgOsdG9J",
        "outputId": "fa5a5680-2383-43f6-bdf0-dc83b0d5a98f"
      },
      "source": [
        "y_test[:5]"
      ],
      "execution_count": null,
      "outputs": [
        {
          "output_type": "execute_result",
          "data": {
            "text/plain": [
              "array([[3],\n",
              "       [8],\n",
              "       [8],\n",
              "       [0],\n",
              "       [6]], dtype=uint8)"
            ]
          },
          "metadata": {},
          "execution_count": 22
        }
      ]
    },
    {
      "cell_type": "code",
      "metadata": {
        "id": "YJkX-c7mdHAl"
      },
      "source": [
        "y_test = y_test.reshape(-1,)\n"
      ],
      "execution_count": null,
      "outputs": []
    },
    {
      "cell_type": "code",
      "metadata": {
        "colab": {
          "base_uri": "https://localhost:8080/"
        },
        "id": "wwM5hSycdHDv",
        "outputId": "e3e54da1-1bb3-4bb2-e7fd-40ee0cbef573"
      },
      "source": [
        "y_test[:5]"
      ],
      "execution_count": null,
      "outputs": [
        {
          "output_type": "execute_result",
          "data": {
            "text/plain": [
              "array([3, 8, 8, 0, 6], dtype=uint8)"
            ]
          },
          "metadata": {},
          "execution_count": 24
        }
      ]
    },
    {
      "cell_type": "code",
      "metadata": {
        "colab": {
          "base_uri": "https://localhost:8080/"
        },
        "id": "7RrMSA4FdHGc",
        "outputId": "27030d47-ba4d-4377-9c4f-49b99609a0be"
      },
      "source": [
        "cnn.evaluate(x_test, y_test)"
      ],
      "execution_count": null,
      "outputs": [
        {
          "output_type": "stream",
          "name": "stdout",
          "text": [
            "313/313 [==============================] - 5s 15ms/step - loss: 0.8381 - accuracy: 0.7186\n"
          ]
        },
        {
          "output_type": "execute_result",
          "data": {
            "text/plain": [
              "[0.8381404280662537, 0.7185999751091003]"
            ]
          },
          "metadata": {},
          "execution_count": 25
        }
      ]
    },
    {
      "cell_type": "code",
      "metadata": {
        "id": "3K9z933edHJM"
      },
      "source": [
        "y_pred = cnn.predict(x_test)"
      ],
      "execution_count": null,
      "outputs": []
    },
    {
      "cell_type": "code",
      "metadata": {
        "colab": {
          "base_uri": "https://localhost:8080/"
        },
        "id": "Gt2_mN5bdHOc",
        "outputId": "55ee1565-31ea-4229-9d5c-48e45e5abe69"
      },
      "source": [
        "y_pred"
      ],
      "execution_count": null,
      "outputs": [
        {
          "output_type": "execute_result",
          "data": {
            "text/plain": [
              "array([[3.19725741e-03, 7.40618119e-03, 7.17212795e-04, ...,\n",
              "        1.21596875e-02, 2.37552300e-02, 1.05925081e-02],\n",
              "       [4.20604410e-05, 1.63903624e-01, 2.83343322e-08, ...,\n",
              "        4.97045460e-10, 8.35959077e-01, 9.51461188e-05],\n",
              "       [1.09362625e-01, 1.95581347e-01, 6.95548998e-03, ...,\n",
              "        3.86170752e-04, 6.05483770e-01, 8.11843723e-02],\n",
              "       ...,\n",
              "       [1.42640567e-06, 1.12249957e-07, 1.02110743e-03, ...,\n",
              "        2.26412574e-03, 2.34285358e-06, 1.09681387e-05],\n",
              "       [3.30132730e-02, 1.79620069e-02, 2.27605621e-03, ...,\n",
              "        1.04942303e-02, 5.20392845e-04, 1.95391665e-04],\n",
              "       [3.22492504e-08, 1.17210739e-07, 9.18029218e-06, ...,\n",
              "        9.99237418e-01, 2.60326760e-09, 7.41800363e-08]], dtype=float32)"
            ]
          },
          "metadata": {},
          "execution_count": 27
        }
      ]
    },
    {
      "cell_type": "code",
      "metadata": {
        "id": "RwHX3IXJpahQ"
      },
      "source": [
        "y_label = [np.argmax(i) for i in y_pred]"
      ],
      "execution_count": null,
      "outputs": []
    },
    {
      "cell_type": "code",
      "metadata": {
        "colab": {
          "base_uri": "https://localhost:8080/"
        },
        "id": "DDIf5P9tpaqS",
        "outputId": "7dbef366-41ae-4c8d-9ad6-8b015422dd01"
      },
      "source": [
        "y_label[:5]"
      ],
      "execution_count": null,
      "outputs": [
        {
          "output_type": "execute_result",
          "data": {
            "text/plain": [
              "[5, 8, 8, 0, 6]"
            ]
          },
          "metadata": {},
          "execution_count": 29
        }
      ]
    },
    {
      "cell_type": "code",
      "metadata": {
        "colab": {
          "base_uri": "https://localhost:8080/"
        },
        "id": "kxGV4KNyppMD",
        "outputId": "fa5a9557-9960-439b-c673-4c6b73f829f9"
      },
      "source": [
        "y_test[:5]"
      ],
      "execution_count": null,
      "outputs": [
        {
          "output_type": "execute_result",
          "data": {
            "text/plain": [
              "array([3, 8, 8, 0, 6], dtype=uint8)"
            ]
          },
          "metadata": {},
          "execution_count": 30
        }
      ]
    },
    {
      "cell_type": "code",
      "metadata": {
        "id": "sA97rTrJppVX"
      },
      "source": [
        "from sklearn.metrics import confusion_matrix, classification_report"
      ],
      "execution_count": null,
      "outputs": []
    },
    {
      "cell_type": "code",
      "metadata": {
        "colab": {
          "base_uri": "https://localhost:8080/"
        },
        "id": "Oum3QP34qRok",
        "outputId": "de8ae050-283c-4866-89d3-331ca5aa4b78"
      },
      "source": [
        "print(classification_report(y_test, y_label))"
      ],
      "execution_count": null,
      "outputs": [
        {
          "output_type": "stream",
          "name": "stdout",
          "text": [
            "              precision    recall  f1-score   support\n",
            "\n",
            "           0       0.70      0.77      0.74      1000\n",
            "           1       0.79      0.86      0.82      1000\n",
            "           2       0.65      0.59      0.62      1000\n",
            "           3       0.59      0.43      0.50      1000\n",
            "           4       0.68      0.67      0.68      1000\n",
            "           5       0.60      0.66      0.63      1000\n",
            "           6       0.81      0.76      0.78      1000\n",
            "           7       0.74      0.80      0.77      1000\n",
            "           8       0.82      0.82      0.82      1000\n",
            "           9       0.76      0.83      0.79      1000\n",
            "\n",
            "    accuracy                           0.72     10000\n",
            "   macro avg       0.72      0.72      0.71     10000\n",
            "weighted avg       0.72      0.72      0.71     10000\n",
            "\n"
          ]
        }
      ]
    },
    {
      "cell_type": "code",
      "metadata": {
        "id": "Hgsg7BKtqRvR"
      },
      "source": [
        ""
      ],
      "execution_count": null,
      "outputs": []
    }
  ]
}